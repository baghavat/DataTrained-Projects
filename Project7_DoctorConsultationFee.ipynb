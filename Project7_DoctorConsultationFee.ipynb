{
 "cells": [
  {
   "cell_type": "markdown",
   "metadata": {},
   "source": [
    "# Case Study\n",
    "We have all been in situation where we go to a doctor in emergency and find that the consultation fees are too high. As a data scientist we all should do better. What if you have data that records important details about a doctor and you get to build a model to predict the doctor’s consulting fee.? "
   ]
  },
  {
   "cell_type": "markdown",
   "metadata": {},
   "source": [
    "# Problem Statement\n",
    "We need to predict consultation fees. Output feature is an continuous variable, it's an regression problem."
   ]
  },
  {
   "cell_type": "code",
   "execution_count": 1,
   "metadata": {},
   "outputs": [],
   "source": [
    "import numpy as np\n",
    "import pandas as pd\n",
    "import matplotlib.pyplot as plt\n",
    "import seaborn as sns\n",
    "import re"
   ]
  },
  {
   "cell_type": "code",
   "execution_count": 2,
   "metadata": {},
   "outputs": [],
   "source": [
    "# Reading excel file \n",
    "train_df=pd.read_excel(\"/Users/bhupendrakumar/Documents/ML Data Scientist Projects/Data-Science-ML-Capstone-Projects-master/Final Participant Data Folder/Final_Train.xlsx\")\n",
    "test_df=pd.read_excel(\"/Users/bhupendrakumar/Documents/ML Data Scientist Projects/Data-Science-ML-Capstone-Projects-master/Final Participant Data Folder/Final_Test.xlsx\")"
   ]
  },
  {
   "cell_type": "code",
   "execution_count": 3,
   "metadata": {},
   "outputs": [
    {
     "name": "stdout",
     "output_type": "stream",
     "text": [
      "(5961, 7)\n",
      "(1987, 6)\n"
     ]
    }
   ],
   "source": [
    "print(train_df.shape)\n",
    "print(test_df.shape)"
   ]
  },
  {
   "cell_type": "markdown",
   "metadata": {},
   "source": [
    "# EDA(Exploratory Data Analysis)"
   ]
  },
  {
   "cell_type": "code",
   "execution_count": 4,
   "metadata": {},
   "outputs": [
    {
     "name": "stdout",
     "output_type": "stream",
     "text": [
      "Index(['Qualification', 'Experience', 'Rating', 'Place', 'Profile',\n",
      "       'Miscellaneous_Info', 'Fees'],\n",
      "      dtype='object')\n",
      "Index(['Qualification', 'Experience', 'Rating', 'Place', 'Profile',\n",
      "       'Miscellaneous_Info'],\n",
      "      dtype='object')\n"
     ]
    }
   ],
   "source": [
    "print(train_df.columns)\n",
    "print(test_df.columns)\n",
    "# Fees is output feature/column."
   ]
  },
  {
   "cell_type": "code",
   "execution_count": 5,
   "metadata": {},
   "outputs": [
    {
     "name": "stdout",
     "output_type": "stream",
     "text": [
      "***********train**********\n",
      "Qualification            0\n",
      "Experience               0\n",
      "Rating                3302\n",
      "Place                   25\n",
      "Profile                  0\n",
      "Miscellaneous_Info    2620\n",
      "Fees                     0\n",
      "dtype: int64\n",
      "***********test**********\n",
      "Qualification            0\n",
      "Experience               0\n",
      "Rating                1090\n",
      "Place                    6\n",
      "Profile                  0\n",
      "Miscellaneous_Info     834\n",
      "dtype: int64\n"
     ]
    }
   ],
   "source": [
    "# Checking Missing Values\n",
    "print(\"***********train**********\")\n",
    "print(train_df.isnull().sum())\n",
    "print(\"***********test**********\")\n",
    "print(test_df.isnull().sum())\n",
    "# In both train and test data Rating,place and Miscellaneous_Info instances are missing."
   ]
  },
  {
   "cell_type": "code",
   "execution_count": 6,
   "metadata": {},
   "outputs": [],
   "source": [
    "# I am going to drop null values of place feature. After observing excel file observed that, all fees are equivalent to 1. \n",
    "#  Only one MBBS is there and qualification is also not correct.\n",
    "train_df['Place']=train_df['Place'].dropna(axis=0)\n",
    "test_df['Place']=test_df['Place'].dropna(axis=0)"
   ]
  },
  {
   "cell_type": "code",
   "execution_count": 7,
   "metadata": {},
   "outputs": [
    {
     "name": "stdout",
     "output_type": "stream",
     "text": [
      "***********train**********\n",
      "Qualification            0\n",
      "Experience               0\n",
      "Rating                3302\n",
      "Place                   25\n",
      "Profile                  0\n",
      "Miscellaneous_Info    2620\n",
      "Fees                     0\n",
      "dtype: int64\n",
      "***********test**********\n",
      "Qualification            0\n",
      "Experience               0\n",
      "Rating                1090\n",
      "Place                    6\n",
      "Profile                  0\n",
      "Miscellaneous_Info     834\n",
      "dtype: int64\n"
     ]
    }
   ],
   "source": [
    "print(\"***********train**********\")\n",
    "print(train_df.isnull().sum())\n",
    "print(\"***********test**********\")\n",
    "print(test_df.isnull().sum())"
   ]
  },
  {
   "cell_type": "code",
   "execution_count": 8,
   "metadata": {},
   "outputs": [
    {
     "name": "stdout",
     "output_type": "stream",
     "text": [
      "Qualification         object\n",
      "Experience            object\n",
      "Rating                object\n",
      "Place                 object\n",
      "Profile               object\n",
      "Miscellaneous_Info    object\n",
      "Fees                   int64\n",
      "dtype: object\n",
      "Qualification         object\n",
      "Experience            object\n",
      "Rating                object\n",
      "Place                 object\n",
      "Profile               object\n",
      "Miscellaneous_Info    object\n",
      "dtype: object\n"
     ]
    }
   ],
   "source": [
    "print(train_df.dtypes)\n",
    "print(test_df.dtypes)"
   ]
  },
  {
   "cell_type": "code",
   "execution_count": 9,
   "metadata": {},
   "outputs": [
    {
     "data": {
      "text/html": [
       "<div>\n",
       "<style scoped>\n",
       "    .dataframe tbody tr th:only-of-type {\n",
       "        vertical-align: middle;\n",
       "    }\n",
       "\n",
       "    .dataframe tbody tr th {\n",
       "        vertical-align: top;\n",
       "    }\n",
       "\n",
       "    .dataframe thead th {\n",
       "        text-align: right;\n",
       "    }\n",
       "</style>\n",
       "<table border=\"1\" class=\"dataframe\">\n",
       "  <thead>\n",
       "    <tr style=\"text-align: right;\">\n",
       "      <th></th>\n",
       "      <th>Qualification</th>\n",
       "      <th>Experience</th>\n",
       "      <th>Rating</th>\n",
       "      <th>Place</th>\n",
       "      <th>Profile</th>\n",
       "      <th>Miscellaneous_Info</th>\n",
       "      <th>Fees</th>\n",
       "    </tr>\n",
       "  </thead>\n",
       "  <tbody>\n",
       "    <tr>\n",
       "      <th>0</th>\n",
       "      <td>BHMS, MD - Homeopathy</td>\n",
       "      <td>24 years experience</td>\n",
       "      <td>100%</td>\n",
       "      <td>Kakkanad, Ernakulam</td>\n",
       "      <td>Homeopath</td>\n",
       "      <td>100% 16 Feedback Kakkanad, Ernakulam</td>\n",
       "      <td>100</td>\n",
       "    </tr>\n",
       "    <tr>\n",
       "      <th>1</th>\n",
       "      <td>BAMS, MD - Ayurveda Medicine</td>\n",
       "      <td>12 years experience</td>\n",
       "      <td>98%</td>\n",
       "      <td>Whitefield, Bangalore</td>\n",
       "      <td>Ayurveda</td>\n",
       "      <td>98% 76 Feedback Whitefield, Bangalore</td>\n",
       "      <td>350</td>\n",
       "    </tr>\n",
       "    <tr>\n",
       "      <th>2</th>\n",
       "      <td>MBBS, MS - Otorhinolaryngology</td>\n",
       "      <td>9 years experience</td>\n",
       "      <td>NaN</td>\n",
       "      <td>Mathikere - BEL, Bangalore</td>\n",
       "      <td>ENT Specialist</td>\n",
       "      <td>NaN</td>\n",
       "      <td>300</td>\n",
       "    </tr>\n",
       "    <tr>\n",
       "      <th>3</th>\n",
       "      <td>BSc - Zoology, BAMS</td>\n",
       "      <td>12 years experience</td>\n",
       "      <td>NaN</td>\n",
       "      <td>Bannerghatta Road, Bangalore</td>\n",
       "      <td>Ayurveda</td>\n",
       "      <td>Bannerghatta Road, Bangalore ₹250 Available on...</td>\n",
       "      <td>250</td>\n",
       "    </tr>\n",
       "    <tr>\n",
       "      <th>4</th>\n",
       "      <td>BAMS</td>\n",
       "      <td>20 years experience</td>\n",
       "      <td>100%</td>\n",
       "      <td>Keelkattalai, Chennai</td>\n",
       "      <td>Ayurveda</td>\n",
       "      <td>100% 4 Feedback Keelkattalai, Chennai</td>\n",
       "      <td>250</td>\n",
       "    </tr>\n",
       "  </tbody>\n",
       "</table>\n",
       "</div>"
      ],
      "text/plain": [
       "                    Qualification           Experience Rating  \\\n",
       "0           BHMS, MD - Homeopathy  24 years experience   100%   \n",
       "1    BAMS, MD - Ayurveda Medicine  12 years experience    98%   \n",
       "2  MBBS, MS - Otorhinolaryngology   9 years experience    NaN   \n",
       "3             BSc - Zoology, BAMS  12 years experience    NaN   \n",
       "4                            BAMS  20 years experience   100%   \n",
       "\n",
       "                          Place         Profile  \\\n",
       "0           Kakkanad, Ernakulam       Homeopath   \n",
       "1         Whitefield, Bangalore        Ayurveda   \n",
       "2    Mathikere - BEL, Bangalore  ENT Specialist   \n",
       "3  Bannerghatta Road, Bangalore        Ayurveda   \n",
       "4         Keelkattalai, Chennai        Ayurveda   \n",
       "\n",
       "                                  Miscellaneous_Info  Fees  \n",
       "0               100% 16 Feedback Kakkanad, Ernakulam   100  \n",
       "1              98% 76 Feedback Whitefield, Bangalore   350  \n",
       "2                                                NaN   300  \n",
       "3  Bannerghatta Road, Bangalore ₹250 Available on...   250  \n",
       "4              100% 4 Feedback Keelkattalai, Chennai   250  "
      ]
     },
     "execution_count": 9,
     "metadata": {},
     "output_type": "execute_result"
    }
   ],
   "source": [
    "train_df.head()"
   ]
  },
  {
   "cell_type": "code",
   "execution_count": 10,
   "metadata": {},
   "outputs": [
    {
     "data": {
      "text/html": [
       "<div>\n",
       "<style scoped>\n",
       "    .dataframe tbody tr th:only-of-type {\n",
       "        vertical-align: middle;\n",
       "    }\n",
       "\n",
       "    .dataframe tbody tr th {\n",
       "        vertical-align: top;\n",
       "    }\n",
       "\n",
       "    .dataframe thead th {\n",
       "        text-align: right;\n",
       "    }\n",
       "</style>\n",
       "<table border=\"1\" class=\"dataframe\">\n",
       "  <thead>\n",
       "    <tr style=\"text-align: right;\">\n",
       "      <th></th>\n",
       "      <th>Qualification</th>\n",
       "      <th>Experience</th>\n",
       "      <th>Rating</th>\n",
       "      <th>Place</th>\n",
       "      <th>Profile</th>\n",
       "      <th>Miscellaneous_Info</th>\n",
       "    </tr>\n",
       "  </thead>\n",
       "  <tbody>\n",
       "    <tr>\n",
       "      <th>0</th>\n",
       "      <td>MBBS</td>\n",
       "      <td>35 years experience</td>\n",
       "      <td>NaN</td>\n",
       "      <td>Ghatkopar East, Mumbai</td>\n",
       "      <td>General Medicine</td>\n",
       "      <td>NaN</td>\n",
       "    </tr>\n",
       "    <tr>\n",
       "      <th>1</th>\n",
       "      <td>MBBS, Diploma in Otorhinolaryngology (DLO)</td>\n",
       "      <td>31 years experience</td>\n",
       "      <td>NaN</td>\n",
       "      <td>West Marredpally, Hyderabad</td>\n",
       "      <td>ENT Specialist</td>\n",
       "      <td>NaN</td>\n",
       "    </tr>\n",
       "    <tr>\n",
       "      <th>2</th>\n",
       "      <td>MBBS, DDVL</td>\n",
       "      <td>40 years experience</td>\n",
       "      <td>70%</td>\n",
       "      <td>KK Nagar, Chennai</td>\n",
       "      <td>Dermatologists</td>\n",
       "      <td>70% 4 Feedback KK Nagar, Chennai</td>\n",
       "    </tr>\n",
       "    <tr>\n",
       "      <th>3</th>\n",
       "      <td>BAMS</td>\n",
       "      <td>0 years experience</td>\n",
       "      <td>NaN</td>\n",
       "      <td>New Ashok Nagar, Delhi</td>\n",
       "      <td>Ayurveda</td>\n",
       "      <td>NaN</td>\n",
       "    </tr>\n",
       "    <tr>\n",
       "      <th>4</th>\n",
       "      <td>BDS, MDS - Conservative Dentistry &amp; Endodontics</td>\n",
       "      <td>16 years experience</td>\n",
       "      <td>100%</td>\n",
       "      <td>Kanakpura Road, Bangalore</td>\n",
       "      <td>Dentist</td>\n",
       "      <td>General Dentistry Conservative Dentistry Cosme...</td>\n",
       "    </tr>\n",
       "  </tbody>\n",
       "</table>\n",
       "</div>"
      ],
      "text/plain": [
       "                                     Qualification           Experience  \\\n",
       "0                                             MBBS  35 years experience   \n",
       "1       MBBS, Diploma in Otorhinolaryngology (DLO)  31 years experience   \n",
       "2                                       MBBS, DDVL  40 years experience   \n",
       "3                                             BAMS   0 years experience   \n",
       "4  BDS, MDS - Conservative Dentistry & Endodontics  16 years experience   \n",
       "\n",
       "  Rating                        Place           Profile  \\\n",
       "0    NaN       Ghatkopar East, Mumbai  General Medicine   \n",
       "1    NaN  West Marredpally, Hyderabad    ENT Specialist   \n",
       "2    70%            KK Nagar, Chennai    Dermatologists   \n",
       "3    NaN       New Ashok Nagar, Delhi          Ayurveda   \n",
       "4   100%    Kanakpura Road, Bangalore           Dentist   \n",
       "\n",
       "                                  Miscellaneous_Info  \n",
       "0                                                NaN  \n",
       "1                                                NaN  \n",
       "2                   70% 4 Feedback KK Nagar, Chennai  \n",
       "3                                                NaN  \n",
       "4  General Dentistry Conservative Dentistry Cosme...  "
      ]
     },
     "execution_count": 10,
     "metadata": {},
     "output_type": "execute_result"
    }
   ],
   "source": [
    "test_df.head()"
   ]
  },
  {
   "cell_type": "code",
   "execution_count": 11,
   "metadata": {},
   "outputs": [],
   "source": [
    "# Miscellaneous_Info can be dropped as it is an accumulation of place and rating features.\n",
    "# Need to remove years experience dtring from Experience column."
   ]
  },
  {
   "cell_type": "code",
   "execution_count": 12,
   "metadata": {},
   "outputs": [],
   "source": [
    "def fnGetCityName(address):\n",
    "    if ',' in address:\n",
    "        lIndex=address.index(',')\n",
    "        return(address[lIndex+2:])\n",
    "    else:\n",
    "        return(address)"
   ]
  },
  {
   "cell_type": "code",
   "execution_count": 13,
   "metadata": {},
   "outputs": [],
   "source": [
    "def fnGetQualification(Qual):\n",
    "    if '-' in Qual:\n",
    "        lIndex=Qual.index('-')\n",
    "        return(Qual[:lIndex-1])\n",
    "    else:\n",
    "        return(Qual)"
   ]
  },
  {
   "cell_type": "code",
   "execution_count": 14,
   "metadata": {},
   "outputs": [
    {
     "name": "stdout",
     "output_type": "stream",
     "text": [
      "BHMS, MD\n"
     ]
    }
   ],
   "source": [
    "lIndex=train_df['Qualification'][0].index('-')\n",
    "print(train_df['Qualification'][0][:lIndex-1])"
   ]
  },
  {
   "cell_type": "code",
   "execution_count": 15,
   "metadata": {},
   "outputs": [],
   "source": [
    "# Replacing string values for Train data set\n",
    "train_df['Experience']=train_df['Experience'].str.replace(\" years experience\",\"\",case = False)\n",
    "train_df['Rating']=train_df['Rating'].str.replace(\"%\",\"\",case = False)\n",
    "# Since, I was getting an error stating that float object has no index function. So, converted the datatype first.\n",
    "train_df['Place']=pd.DataFrame(map(str,train_df['Place']))\n",
    "train_df['Place']=pd.DataFrame(map(fnGetCityName,train_df['Place']))\n",
    "# I am storing only degress not specialization as that will be present in Profile feature\n",
    "train_df['Qualification']=pd.DataFrame(map(str,train_df['Qualification']))\n",
    "train_df['Qualification']=pd.DataFrame(map(fnGetQualification,train_df['Qualification']))"
   ]
  },
  {
   "cell_type": "code",
   "execution_count": 16,
   "metadata": {},
   "outputs": [
    {
     "data": {
      "text/html": [
       "<div>\n",
       "<style scoped>\n",
       "    .dataframe tbody tr th:only-of-type {\n",
       "        vertical-align: middle;\n",
       "    }\n",
       "\n",
       "    .dataframe tbody tr th {\n",
       "        vertical-align: top;\n",
       "    }\n",
       "\n",
       "    .dataframe thead th {\n",
       "        text-align: right;\n",
       "    }\n",
       "</style>\n",
       "<table border=\"1\" class=\"dataframe\">\n",
       "  <thead>\n",
       "    <tr style=\"text-align: right;\">\n",
       "      <th></th>\n",
       "      <th>Qualification</th>\n",
       "      <th>Experience</th>\n",
       "      <th>Rating</th>\n",
       "      <th>Place</th>\n",
       "      <th>Profile</th>\n",
       "      <th>Miscellaneous_Info</th>\n",
       "      <th>Fees</th>\n",
       "    </tr>\n",
       "  </thead>\n",
       "  <tbody>\n",
       "    <tr>\n",
       "      <th>0</th>\n",
       "      <td>BHMS, MD</td>\n",
       "      <td>24</td>\n",
       "      <td>100</td>\n",
       "      <td>Ernakulam</td>\n",
       "      <td>Homeopath</td>\n",
       "      <td>100% 16 Feedback Kakkanad, Ernakulam</td>\n",
       "      <td>100</td>\n",
       "    </tr>\n",
       "    <tr>\n",
       "      <th>1</th>\n",
       "      <td>BAMS, MD</td>\n",
       "      <td>12</td>\n",
       "      <td>98</td>\n",
       "      <td>Bangalore</td>\n",
       "      <td>Ayurveda</td>\n",
       "      <td>98% 76 Feedback Whitefield, Bangalore</td>\n",
       "      <td>350</td>\n",
       "    </tr>\n",
       "    <tr>\n",
       "      <th>2</th>\n",
       "      <td>MBBS, MS</td>\n",
       "      <td>9</td>\n",
       "      <td>NaN</td>\n",
       "      <td>Bangalore</td>\n",
       "      <td>ENT Specialist</td>\n",
       "      <td>NaN</td>\n",
       "      <td>300</td>\n",
       "    </tr>\n",
       "    <tr>\n",
       "      <th>3</th>\n",
       "      <td>BSc</td>\n",
       "      <td>12</td>\n",
       "      <td>NaN</td>\n",
       "      <td>Bangalore</td>\n",
       "      <td>Ayurveda</td>\n",
       "      <td>Bannerghatta Road, Bangalore ₹250 Available on...</td>\n",
       "      <td>250</td>\n",
       "    </tr>\n",
       "    <tr>\n",
       "      <th>4</th>\n",
       "      <td>BAMS</td>\n",
       "      <td>20</td>\n",
       "      <td>100</td>\n",
       "      <td>Chennai</td>\n",
       "      <td>Ayurveda</td>\n",
       "      <td>100% 4 Feedback Keelkattalai, Chennai</td>\n",
       "      <td>250</td>\n",
       "    </tr>\n",
       "  </tbody>\n",
       "</table>\n",
       "</div>"
      ],
      "text/plain": [
       "  Qualification Experience Rating      Place         Profile  \\\n",
       "0      BHMS, MD         24    100  Ernakulam       Homeopath   \n",
       "1      BAMS, MD         12     98  Bangalore        Ayurveda   \n",
       "2      MBBS, MS          9    NaN  Bangalore  ENT Specialist   \n",
       "3           BSc         12    NaN  Bangalore        Ayurveda   \n",
       "4          BAMS         20    100    Chennai        Ayurveda   \n",
       "\n",
       "                                  Miscellaneous_Info  Fees  \n",
       "0               100% 16 Feedback Kakkanad, Ernakulam   100  \n",
       "1              98% 76 Feedback Whitefield, Bangalore   350  \n",
       "2                                                NaN   300  \n",
       "3  Bannerghatta Road, Bangalore ₹250 Available on...   250  \n",
       "4              100% 4 Feedback Keelkattalai, Chennai   250  "
      ]
     },
     "execution_count": 16,
     "metadata": {},
     "output_type": "execute_result"
    }
   ],
   "source": [
    "train_df.head()"
   ]
  },
  {
   "cell_type": "code",
   "execution_count": 17,
   "metadata": {
    "scrolled": true
   },
   "outputs": [
    {
     "data": {
      "text/plain": [
       "Qualification         object\n",
       "Experience            object\n",
       "Rating                object\n",
       "Place                 object\n",
       "Profile               object\n",
       "Miscellaneous_Info    object\n",
       "Fees                   int64\n",
       "dtype: object"
      ]
     },
     "execution_count": 17,
     "metadata": {},
     "output_type": "execute_result"
    }
   ],
   "source": [
    "train_df.dtypes"
   ]
  },
  {
   "cell_type": "code",
   "execution_count": 18,
   "metadata": {},
   "outputs": [],
   "source": [
    "# Converting Rating feature to numeric\n",
    "train_df['Rating']=pd.to_numeric(train_df['Rating'])\n",
    "train_df['Experience']=pd.to_numeric(train_df['Experience'])"
   ]
  },
  {
   "cell_type": "code",
   "execution_count": 19,
   "metadata": {},
   "outputs": [],
   "source": [
    "# Removing Miscellaneous info, as information is present under different features.\n",
    "train_df.drop('Miscellaneous_Info',axis=1,inplace=True)"
   ]
  },
  {
   "cell_type": "code",
   "execution_count": 20,
   "metadata": {},
   "outputs": [
    {
     "data": {
      "text/html": [
       "<div>\n",
       "<style scoped>\n",
       "    .dataframe tbody tr th:only-of-type {\n",
       "        vertical-align: middle;\n",
       "    }\n",
       "\n",
       "    .dataframe tbody tr th {\n",
       "        vertical-align: top;\n",
       "    }\n",
       "\n",
       "    .dataframe thead th {\n",
       "        text-align: right;\n",
       "    }\n",
       "</style>\n",
       "<table border=\"1\" class=\"dataframe\">\n",
       "  <thead>\n",
       "    <tr style=\"text-align: right;\">\n",
       "      <th></th>\n",
       "      <th>Qualification</th>\n",
       "      <th>Experience</th>\n",
       "      <th>Rating</th>\n",
       "      <th>Place</th>\n",
       "      <th>Profile</th>\n",
       "      <th>Fees</th>\n",
       "    </tr>\n",
       "  </thead>\n",
       "  <tbody>\n",
       "    <tr>\n",
       "      <th>0</th>\n",
       "      <td>BHMS, MD</td>\n",
       "      <td>24</td>\n",
       "      <td>100.0</td>\n",
       "      <td>Ernakulam</td>\n",
       "      <td>Homeopath</td>\n",
       "      <td>100</td>\n",
       "    </tr>\n",
       "    <tr>\n",
       "      <th>1</th>\n",
       "      <td>BAMS, MD</td>\n",
       "      <td>12</td>\n",
       "      <td>98.0</td>\n",
       "      <td>Bangalore</td>\n",
       "      <td>Ayurveda</td>\n",
       "      <td>350</td>\n",
       "    </tr>\n",
       "    <tr>\n",
       "      <th>2</th>\n",
       "      <td>MBBS, MS</td>\n",
       "      <td>9</td>\n",
       "      <td>NaN</td>\n",
       "      <td>Bangalore</td>\n",
       "      <td>ENT Specialist</td>\n",
       "      <td>300</td>\n",
       "    </tr>\n",
       "    <tr>\n",
       "      <th>3</th>\n",
       "      <td>BSc</td>\n",
       "      <td>12</td>\n",
       "      <td>NaN</td>\n",
       "      <td>Bangalore</td>\n",
       "      <td>Ayurveda</td>\n",
       "      <td>250</td>\n",
       "    </tr>\n",
       "    <tr>\n",
       "      <th>4</th>\n",
       "      <td>BAMS</td>\n",
       "      <td>20</td>\n",
       "      <td>100.0</td>\n",
       "      <td>Chennai</td>\n",
       "      <td>Ayurveda</td>\n",
       "      <td>250</td>\n",
       "    </tr>\n",
       "  </tbody>\n",
       "</table>\n",
       "</div>"
      ],
      "text/plain": [
       "  Qualification  Experience  Rating      Place         Profile  Fees\n",
       "0      BHMS, MD          24   100.0  Ernakulam       Homeopath   100\n",
       "1      BAMS, MD          12    98.0  Bangalore        Ayurveda   350\n",
       "2      MBBS, MS           9     NaN  Bangalore  ENT Specialist   300\n",
       "3           BSc          12     NaN  Bangalore        Ayurveda   250\n",
       "4          BAMS          20   100.0    Chennai        Ayurveda   250"
      ]
     },
     "execution_count": 20,
     "metadata": {},
     "output_type": "execute_result"
    }
   ],
   "source": [
    "train_df.head()"
   ]
  },
  {
   "cell_type": "code",
   "execution_count": 21,
   "metadata": {},
   "outputs": [
    {
     "data": {
      "text/html": [
       "<div>\n",
       "<style scoped>\n",
       "    .dataframe tbody tr th:only-of-type {\n",
       "        vertical-align: middle;\n",
       "    }\n",
       "\n",
       "    .dataframe tbody tr th {\n",
       "        vertical-align: top;\n",
       "    }\n",
       "\n",
       "    .dataframe thead th {\n",
       "        text-align: right;\n",
       "    }\n",
       "</style>\n",
       "<table border=\"1\" class=\"dataframe\">\n",
       "  <thead>\n",
       "    <tr style=\"text-align: right;\">\n",
       "      <th></th>\n",
       "      <th>Experience</th>\n",
       "      <th>Rating</th>\n",
       "      <th>Fees</th>\n",
       "    </tr>\n",
       "  </thead>\n",
       "  <tbody>\n",
       "    <tr>\n",
       "      <th>count</th>\n",
       "      <td>5961.000000</td>\n",
       "      <td>2659.000000</td>\n",
       "      <td>5961.000000</td>\n",
       "    </tr>\n",
       "    <tr>\n",
       "      <th>mean</th>\n",
       "      <td>17.303976</td>\n",
       "      <td>94.643475</td>\n",
       "      <td>307.944640</td>\n",
       "    </tr>\n",
       "    <tr>\n",
       "      <th>std</th>\n",
       "      <td>11.142798</td>\n",
       "      <td>7.852813</td>\n",
       "      <td>190.920373</td>\n",
       "    </tr>\n",
       "    <tr>\n",
       "      <th>min</th>\n",
       "      <td>0.000000</td>\n",
       "      <td>7.000000</td>\n",
       "      <td>5.000000</td>\n",
       "    </tr>\n",
       "    <tr>\n",
       "      <th>25%</th>\n",
       "      <td>9.000000</td>\n",
       "      <td>93.000000</td>\n",
       "      <td>150.000000</td>\n",
       "    </tr>\n",
       "    <tr>\n",
       "      <th>50%</th>\n",
       "      <td>14.000000</td>\n",
       "      <td>97.000000</td>\n",
       "      <td>300.000000</td>\n",
       "    </tr>\n",
       "    <tr>\n",
       "      <th>75%</th>\n",
       "      <td>23.000000</td>\n",
       "      <td>100.000000</td>\n",
       "      <td>500.000000</td>\n",
       "    </tr>\n",
       "    <tr>\n",
       "      <th>max</th>\n",
       "      <td>66.000000</td>\n",
       "      <td>100.000000</td>\n",
       "      <td>950.000000</td>\n",
       "    </tr>\n",
       "  </tbody>\n",
       "</table>\n",
       "</div>"
      ],
      "text/plain": [
       "        Experience       Rating         Fees\n",
       "count  5961.000000  2659.000000  5961.000000\n",
       "mean     17.303976    94.643475   307.944640\n",
       "std      11.142798     7.852813   190.920373\n",
       "min       0.000000     7.000000     5.000000\n",
       "25%       9.000000    93.000000   150.000000\n",
       "50%      14.000000    97.000000   300.000000\n",
       "75%      23.000000   100.000000   500.000000\n",
       "max      66.000000   100.000000   950.000000"
      ]
     },
     "execution_count": 21,
     "metadata": {},
     "output_type": "execute_result"
    }
   ],
   "source": [
    "train_df.describe()\n",
    "# Seems experience feature has outliers in it."
   ]
  },
  {
   "cell_type": "code",
   "execution_count": 22,
   "metadata": {},
   "outputs": [
    {
     "data": {
      "text/plain": [
       "Qualification       0\n",
       "Experience          0\n",
       "Rating           3302\n",
       "Place               0\n",
       "Profile             0\n",
       "Fees                0\n",
       "dtype: int64"
      ]
     },
     "execution_count": 22,
     "metadata": {},
     "output_type": "execute_result"
    }
   ],
   "source": [
    "train_df.isnull().sum()"
   ]
  },
  {
   "cell_type": "code",
   "execution_count": 23,
   "metadata": {},
   "outputs": [
    {
     "name": "stdout",
     "output_type": "stream",
     "text": [
      "94.64347499059797\n",
      "97.0\n"
     ]
    }
   ],
   "source": [
    "# Imputing null values for rating feature. Since it's an float feature, we will replace by mean or median.\n",
    "print(train_df['Rating'].mean())\n",
    "print(train_df['Rating'].median())\n",
    "# I will replace null values by mean\n",
    "train_df['Rating'].fillna(train_df['Rating'].median(),inplace=True)"
   ]
  },
  {
   "cell_type": "code",
   "execution_count": 24,
   "metadata": {},
   "outputs": [
    {
     "data": {
      "text/plain": [
       "Qualification    0\n",
       "Experience       0\n",
       "Rating           0\n",
       "Place            0\n",
       "Profile          0\n",
       "Fees             0\n",
       "dtype: int64"
      ]
     },
     "execution_count": 24,
     "metadata": {},
     "output_type": "execute_result"
    }
   ],
   "source": [
    "train_df.isnull().sum()"
   ]
  },
  {
   "cell_type": "code",
   "execution_count": 25,
   "metadata": {},
   "outputs": [
    {
     "name": "stdout",
     "output_type": "stream",
     "text": [
      "621\n",
      "11\n",
      "6\n"
     ]
    }
   ],
   "source": [
    "print(len(list(train_df['Qualification'].value_counts())))\n",
    "# 621 distinct Qualifications are available\n",
    "print(len(list(train_df['Place'].value_counts())))\n",
    "# 10 differnt cities data is given to us.\n",
    "print(len(list(train_df['Profile'].value_counts())))"
   ]
  },
  {
   "cell_type": "code",
   "execution_count": 26,
   "metadata": {},
   "outputs": [
    {
     "data": {
      "text/plain": [
       "<matplotlib.axes._subplots.AxesSubplot at 0x7fd16fd54880>"
      ]
     },
     "execution_count": 26,
     "metadata": {},
     "output_type": "execute_result"
    },
    {
     "data": {
      "image/png": "[encoded data removed]",
      "text/plain": [
       "<Figure size 720x720 with 1 Axes>"
      ]
     },
     "metadata": {
      "needs_background": "light"
     },
     "output_type": "display_data"
    }
   ],
   "source": [
    "# Barplots\n",
    "plt.figure(figsize=(10,10))\n",
    "sns.barplot(x='Place',y='Fees',data=train_df)\n",
    "# As expected higher fees is charged in cities like Chennai, Mimbai, Hyderabad and Bangalore"
   ]
  },
  {
   "cell_type": "code",
   "execution_count": 27,
   "metadata": {},
   "outputs": [
    {
     "data": {
      "text/plain": [
       "<matplotlib.axes._subplots.AxesSubplot at 0x7fd1703a5880>"
      ]
     },
     "execution_count": 27,
     "metadata": {},
     "output_type": "execute_result"
    },
    {
     "data": {
      "image/png": "[encoded data removed]",
      "text/plain": [
       "<Figure size 3600x3600 with 1 Axes>"
      ]
     },
     "metadata": {
      "needs_background": "light"
     },
     "output_type": "display_data"
    }
   ],
   "source": [
    "plt.figure(figsize=(50,50))\n",
    "sns.barplot(x='Experience',y='Fees',data=train_df)\n",
    "# Doctors with 5 to 30 years of experience are charging higher fees."
   ]
  },
  {
   "cell_type": "code",
   "execution_count": 28,
   "metadata": {},
   "outputs": [
    {
     "data": {
      "text/plain": [
       "<matplotlib.axes._subplots.AxesSubplot at 0x7fd1738baee0>"
      ]
     },
     "execution_count": 28,
     "metadata": {},
     "output_type": "execute_result"
    },
    {
     "data": {
      "image/png": "[encoded data removed]",
      "text/plain": [
       "<Figure size 3600x3600 with 1 Axes>"
      ]
     },
     "metadata": {
      "needs_background": "light"
     },
     "output_type": "display_data"
    }
   ],
   "source": [
    "plt.figure(figsize=(50,50))\n",
    "sns.barplot(x='Profile',y='Fees',data=train_df)\n",
    "# ENT specialists and Dermatologists are charging higher fees."
   ]
  },
  {
   "cell_type": "code",
   "execution_count": 29,
   "metadata": {},
   "outputs": [
    {
     "data": {
      "text/plain": [
       "<seaborn.axisgrid.PairGrid at 0x7fd1757a0df0>"
      ]
     },
     "execution_count": 29,
     "metadata": {},
     "output_type": "execute_result"
    },
    {
     "data": {
      "image/png": "[encoded data removed]",
      "text/plain": [
       "<Figure size 540x540 with 12 Axes>"
      ]
     },
     "metadata": {
      "needs_background": "light"
     },
     "output_type": "display_data"
    }
   ],
   "source": [
    "# Bivariate Analysis\n",
    "# Plotting pairplot\n",
    "sns.pairplot(data=train_df)"
   ]
  },
  {
   "cell_type": "code",
   "execution_count": 30,
   "metadata": {},
   "outputs": [
    {
     "data": {
      "text/html": [
       "<div>\n",
       "<style scoped>\n",
       "    .dataframe tbody tr th:only-of-type {\n",
       "        vertical-align: middle;\n",
       "    }\n",
       "\n",
       "    .dataframe tbody tr th {\n",
       "        vertical-align: top;\n",
       "    }\n",
       "\n",
       "    .dataframe thead th {\n",
       "        text-align: right;\n",
       "    }\n",
       "</style>\n",
       "<table border=\"1\" class=\"dataframe\">\n",
       "  <thead>\n",
       "    <tr style=\"text-align: right;\">\n",
       "      <th></th>\n",
       "      <th>Qualification</th>\n",
       "      <th>Experience</th>\n",
       "      <th>Rating</th>\n",
       "      <th>Place</th>\n",
       "      <th>Profile</th>\n",
       "      <th>Fees</th>\n",
       "    </tr>\n",
       "  </thead>\n",
       "  <tbody>\n",
       "    <tr>\n",
       "      <th>0</th>\n",
       "      <td>BHMS, MD</td>\n",
       "      <td>24</td>\n",
       "      <td>100.0</td>\n",
       "      <td>Ernakulam</td>\n",
       "      <td>Homeopath</td>\n",
       "      <td>100</td>\n",
       "    </tr>\n",
       "    <tr>\n",
       "      <th>1</th>\n",
       "      <td>BAMS, MD</td>\n",
       "      <td>12</td>\n",
       "      <td>98.0</td>\n",
       "      <td>Bangalore</td>\n",
       "      <td>Ayurveda</td>\n",
       "      <td>350</td>\n",
       "    </tr>\n",
       "    <tr>\n",
       "      <th>2</th>\n",
       "      <td>MBBS, MS</td>\n",
       "      <td>9</td>\n",
       "      <td>97.0</td>\n",
       "      <td>Bangalore</td>\n",
       "      <td>ENT Specialist</td>\n",
       "      <td>300</td>\n",
       "    </tr>\n",
       "    <tr>\n",
       "      <th>3</th>\n",
       "      <td>BSc</td>\n",
       "      <td>12</td>\n",
       "      <td>97.0</td>\n",
       "      <td>Bangalore</td>\n",
       "      <td>Ayurveda</td>\n",
       "      <td>250</td>\n",
       "    </tr>\n",
       "    <tr>\n",
       "      <th>4</th>\n",
       "      <td>BAMS</td>\n",
       "      <td>20</td>\n",
       "      <td>100.0</td>\n",
       "      <td>Chennai</td>\n",
       "      <td>Ayurveda</td>\n",
       "      <td>250</td>\n",
       "    </tr>\n",
       "  </tbody>\n",
       "</table>\n",
       "</div>"
      ],
      "text/plain": [
       "  Qualification  Experience  Rating      Place         Profile  Fees\n",
       "0      BHMS, MD          24   100.0  Ernakulam       Homeopath   100\n",
       "1      BAMS, MD          12    98.0  Bangalore        Ayurveda   350\n",
       "2      MBBS, MS           9    97.0  Bangalore  ENT Specialist   300\n",
       "3           BSc          12    97.0  Bangalore        Ayurveda   250\n",
       "4          BAMS          20   100.0    Chennai        Ayurveda   250"
      ]
     },
     "execution_count": 30,
     "metadata": {},
     "output_type": "execute_result"
    }
   ],
   "source": [
    "train_df.head()"
   ]
  },
  {
   "cell_type": "code",
   "execution_count": 31,
   "metadata": {},
   "outputs": [
    {
     "data": {
      "text/plain": [
       "<matplotlib.axes._subplots.AxesSubplot at 0x7fd158c342b0>"
      ]
     },
     "execution_count": 31,
     "metadata": {},
     "output_type": "execute_result"
    },
    {
     "data": {
      "image/png": "[encoded data removed]",
      "text/plain": [
       "<Figure size 432x288 with 2 Axes>"
      ]
     },
     "metadata": {
      "needs_background": "light"
     },
     "output_type": "display_data"
    }
   ],
   "source": [
    "# Heatmap corr matrix\n",
    "corr_mat=train_df.corr()\n",
    "sns.heatmap(corr_mat,annot=True,cmap='winter')\n",
    "# We will not remove any of the featur, as all seems important feature and not correlated to each other."
   ]
  },
  {
   "cell_type": "markdown",
   "metadata": {},
   "source": [
    "# Model Selection"
   ]
  },
  {
   "cell_type": "code",
   "execution_count": 32,
   "metadata": {},
   "outputs": [],
   "source": [
    "Y=train_df['Fees']\n",
    "X=train_df.drop('Fees',axis=1)"
   ]
  },
  {
   "cell_type": "code",
   "execution_count": 33,
   "metadata": {},
   "outputs": [
    {
     "name": "stdout",
     "output_type": "stream",
     "text": [
      "(5961, 5)\n",
      "(5961,)\n"
     ]
    }
   ],
   "source": [
    "print(X.shape)\n",
    "print(Y.shape)"
   ]
  },
  {
   "cell_type": "code",
   "execution_count": 34,
   "metadata": {},
   "outputs": [],
   "source": [
    "# Normalization\n",
    "colList=['Rating','Experience']\n",
    "for col in colList:\n",
    "    X[col]=(X[col]-min(X[col]))/(max(X[col])-min(X[col]))"
   ]
  },
  {
   "cell_type": "code",
   "execution_count": 35,
   "metadata": {},
   "outputs": [],
   "source": [
    "from sklearn.preprocessing import OrdinalEncoder\n",
    "# Encoding\n",
    "X = OrdinalEncoder().fit_transform(X)"
   ]
  },
  {
   "cell_type": "code",
   "execution_count": 36,
   "metadata": {},
   "outputs": [],
   "source": [
    "from sklearn.model_selection import train_test_split\n",
    "from sklearn.metrics import r2_score, mean_absolute_error, mean_squared_error\n",
    "from sklearn.linear_model import LinearRegression\n",
    "from sklearn.neighbors import KNeighborsRegressor\n",
    "from sklearn.tree import DecisionTreeRegressor\n",
    "from sklearn.ensemble import AdaBoostRegressor\n",
    "from sklearn.svm import SVR\n",
    "from sklearn.ensemble import GradientBoostingRegressor"
   ]
  },
  {
   "cell_type": "code",
   "execution_count": 37,
   "metadata": {},
   "outputs": [],
   "source": [
    "# Calculating root mean squared log error.\n",
    "def rmlse(y_pred,y):\n",
    "    y_pred = np.log(y_pred)\n",
    "    y = np.log(y)\n",
    "    return 1 - ((np.sum((y_pred-y)**2))/len(y))**1/2"
   ]
  },
  {
   "cell_type": "code",
   "execution_count": 38,
   "metadata": {},
   "outputs": [
    {
     "name": "stdout",
     "output_type": "stream",
     "text": [
      "Best rmlse Score is 0.7801569365041532 for random state 90.\n"
     ]
    }
   ],
   "source": [
    "max_r2Score=0\n",
    "active_r2s=0\n",
    "iBest_rs=0\n",
    "lm=LinearRegression()\n",
    "for iActive_rs in range(42,101):\n",
    "    x_train,x_test,y_train,y_test=train_test_split(X,Y,random_state=iActive_rs, test_size=0.2)\n",
    "    lm.fit(x_train,y_train)\n",
    "    pred=lm.predict(x_test)\n",
    "    active_r2s=rmlse(pred,y_test)\n",
    "    if active_r2s>max_r2Score:\n",
    "        max_r2Score=active_r2s\n",
    "        iBest_rs=iActive_rs\n",
    "print(\"Best rmlse Score is {} for random state {}.\".format(max_r2Score,iBest_rs))\n",
    "# Linear regression is giving rmlse 78 at random state 90"
   ]
  },
  {
   "cell_type": "code",
   "execution_count": 39,
   "metadata": {},
   "outputs": [
    {
     "name": "stdout",
     "output_type": "stream",
     "text": [
      "Best rmlse Score is 0.6844561706967064 for random state 74.\n"
     ]
    }
   ],
   "source": [
    "max_r2Score=0\n",
    "active_r2s=0\n",
    "iBest_rs=0\n",
    "lm=DecisionTreeRegressor()\n",
    "for iActive_rs in range(42,101):\n",
    "    x_train,x_test,y_train,y_test=train_test_split(X,Y,random_state=iActive_rs,test_size=0.2)\n",
    "    lm.fit(x_train,y_train)\n",
    "    pred=lm.predict(x_test)\n",
    "    active_r2s=rmlse(pred,y_test)\n",
    "    if active_r2s>max_r2Score:\n",
    "        max_r2Score=active_r2s\n",
    "        iBest_rs=iActive_rs\n",
    "\n",
    "print(\"Best rmlse Score is {} for random state {}.\".format(max_r2Score,iBest_rs))\n",
    "# Decision Tree is giving rmlse 69 at random state 74"
   ]
  },
  {
   "cell_type": "code",
   "execution_count": 40,
   "metadata": {},
   "outputs": [
    {
     "name": "stdout",
     "output_type": "stream",
     "text": [
      "Best rmlse Score is 0.7946687438126692 for random state 42.\n"
     ]
    }
   ],
   "source": [
    "max_r2Score=0\n",
    "active_r2s=0\n",
    "iBest_rs=0\n",
    "lm=SVR(gamma='scale')\n",
    "for iActive_rs in range(42,101):\n",
    "    x_train,x_test,y_train,y_test=train_test_split(X,Y,random_state=iActive_rs,test_size=0.2)\n",
    "    lm.fit(x_train,y_train)\n",
    "    pred=lm.predict(x_test)\n",
    "    active_r2s=rmlse(pred,y_test)\n",
    "    if active_r2s>max_r2Score:\n",
    "        max_r2Score=active_r2s\n",
    "        iBest_rs=iActive_rs\n",
    "\n",
    "print(\"Best rmlse Score is {} for random state {}.\".format(max_r2Score,iBest_rs))\n",
    "# Support Vector is giving rmlse 79 at random state 42"
   ]
  },
  {
   "cell_type": "code",
   "execution_count": 41,
   "metadata": {},
   "outputs": [
    {
     "name": "stdout",
     "output_type": "stream",
     "text": [
      "Best rmlse Score is 0.7690718585074756 for random state 42.\n"
     ]
    }
   ],
   "source": [
    "max_r2Score=0\n",
    "active_r2s=0\n",
    "iBest_rs=0\n",
    "lm=AdaBoostRegressor()\n",
    "for iActive_rs in range(42,101):\n",
    "    x_train,x_test,y_train,y_test=train_test_split(X,Y,random_state=iActive_rs,test_size=0.2)\n",
    "    lm.fit(x_train,y_train)\n",
    "    pred=lm.predict(x_test)\n",
    "    active_r2s=rmlse(pred,y_test)\n",
    "    if active_r2s>max_r2Score:\n",
    "        max_r2Score=active_r2s\n",
    "        iBest_rs=iActive_rs\n",
    "\n",
    "print(\"Best rmlse Score is {} for random state {}.\".format(max_r2Score,iBest_rs))\n",
    "# AdaBoost is giving rmlse 77 at random state 42"
   ]
  },
  {
   "cell_type": "code",
   "execution_count": 42,
   "metadata": {},
   "outputs": [
    {
     "name": "stdout",
     "output_type": "stream",
     "text": [
      "Best rmlse Score is 0.8122152324237977 for random state 90.\n"
     ]
    }
   ],
   "source": [
    "max_r2Score=0\n",
    "active_r2s=0\n",
    "iBest_rs=0\n",
    "lm=GradientBoostingRegressor()\n",
    "for iActive_rs in range(42,101):\n",
    "    x_train,x_test,y_train,y_test=train_test_split(X,Y,random_state=iActive_rs,test_size=0.2)\n",
    "    lm.fit(x_train,y_train)\n",
    "    pred=lm.predict(x_test)\n",
    "    active_r2s=rmlse(pred,y_test)\n",
    "    if active_r2s>max_r2Score:\n",
    "        max_r2Score=active_r2s\n",
    "        iBest_rs=iActive_rs\n",
    "\n",
    "print(\"Best rmlse Score is {} for random state {}.\".format(max_r2Score,iBest_rs))\n",
    "# Gradient Boost is giving rmlse 81 at random state 90"
   ]
  },
  {
   "cell_type": "code",
   "execution_count": 43,
   "metadata": {},
   "outputs": [
    {
     "name": "stdout",
     "output_type": "stream",
     "text": [
      "{'criterion': 'mse', 'n_estimators': 100}\n"
     ]
    }
   ],
   "source": [
    "# Gradient Boosting Classifier is giving best result. Let's deploy it after checking it's cross val score.\n",
    "from sklearn.model_selection import GridSearchCV\n",
    "parameters={'criterion':['friedman_mse', 'mse', 'mae'],'n_estimators':[100,200,300]}\n",
    "gbr=GradientBoostingRegressor()\n",
    "gsgb=GridSearchCV(gbr,parameters)\n",
    "gsgb.fit(X,Y)\n",
    "print(gsgb.best_params_)"
   ]
  },
  {
   "cell_type": "code",
   "execution_count": 44,
   "metadata": {},
   "outputs": [
    {
     "data": {
      "text/plain": [
       "0.19455598789497142"
      ]
     },
     "execution_count": 44,
     "metadata": {},
     "output_type": "execute_result"
    }
   ],
   "source": [
    "from sklearn.model_selection import cross_val_score\n",
    "# Gradient Boost Algorithm is giving us the best result with 99% accuracy, let's use corss validation and later prepare our final model.\n",
    "cross_val_score(GradientBoostingRegressor(),X,Y,cv=5,scoring=\"r2\").mean()\n",
    "# It's a low score, model is not suffering from over or under fitting."
   ]
  },
  {
   "cell_type": "code",
   "execution_count": 48,
   "metadata": {},
   "outputs": [],
   "source": [
    "# Max random state is coming around 90 and best model came out to be Gradient Boodting. We will create final model around that.\n",
    "gbm=GradientBoostingRegressor(criterion='mse',n_estimators=100)\n",
    "x_train,x_test,y_train,y_test=train_test_split(X,Y,random_state=90,test_size=0.2)\n",
    "gbm.fit(x_train,y_train)\n",
    "pred=gbm.predict(x_test)"
   ]
  },
  {
   "cell_type": "code",
   "execution_count": 49,
   "metadata": {},
   "outputs": [
    {
     "name": "stdout",
     "output_type": "stream",
     "text": [
      "r2_score is  0.8121657280917661\n"
     ]
    }
   ],
   "source": [
    "# Checking error and accuracy\n",
    "print(\"r2_score is \",rmlse(pred,y_test))"
   ]
  },
  {
   "cell_type": "code",
   "execution_count": 50,
   "metadata": {},
   "outputs": [
    {
     "data": {
      "text/plain": [
       "['GradBoost_Doctor.pkl']"
      ]
     },
     "execution_count": 50,
     "metadata": {},
     "output_type": "execute_result"
    }
   ],
   "source": [
    "# Saving the model using joblib\n",
    "import joblib\n",
    "# Saving model as pickle in a file\n",
    "joblib.dump(gbm,'GradBoost_Doctor.pkl')"
   ]
  }
 ],
 "metadata": {
  "kernelspec": {
   "display_name": "Python 3",
   "language": "python",
   "name": "python3"
  },
  "language_info": {
   "codemirror_mode": {
    "name": "ipython",
    "version": 3
   },
   "file_extension": ".py",
   "mimetype": "text/x-python",
   "name": "python",
   "nbconvert_exporter": "python",
   "pygments_lexer": "ipython3",
   "version": "3.8.3"
  }
 },
 "nbformat": 4,
 "nbformat_minor": 4
}
